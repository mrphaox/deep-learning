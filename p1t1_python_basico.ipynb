{
  "nbformat": 4,
  "nbformat_minor": 0,
  "metadata": {
    "colab": {
      "name": "p1t1 python basico ",
      "provenance": [],
      "collapsed_sections": [],
      "authorship_tag": "ABX9TyMMpgfW89P01uYCD4Cl49uN",
      "include_colab_link": true
    },
    "kernelspec": {
      "name": "python3",
      "display_name": "Python 3"
    },
    "language_info": {
      "name": "python"
    }
  },
  "cells": [
    {
      "cell_type": "markdown",
      "metadata": {
        "id": "view-in-github",
        "colab_type": "text"
      },
      "source": [
        "<a href=\"https://colab.research.google.com/github/mrphaox/deep-learning/blob/main/p1t1_python_basico.ipynb\" target=\"_parent\"><img src=\"https://colab.research.google.com/assets/colab-badge.svg\" alt=\"Open In Colab\"/></a>"
      ]
    },
    {
      "cell_type": "markdown",
      "source": [
        "\n",
        "\n",
        "> Bloc con sangría\n",
        "\n"
      ],
      "metadata": {
        "id": "rDu80-0cjFtW"
      }
    },
    {
      "cell_type": "markdown",
      "source": [
        ""
      ],
      "metadata": {
        "id": "F9qavpvUqFKS"
      }
    },
    {
      "cell_type": "markdown",
      "source": [
        "# Descripcion\n",
        "\n",
        "*   @author: Oscar alberto neira vaca\n",
        "*   @date: 2021/02/12\n",
        "*   @description: basic exercise in paython\n",
        "\n",
        "   "
      ],
      "metadata": {
        "id": "gC7Iverbqo4J"
      }
    },
    {
      "cell_type": "markdown",
      "source": [
        ""
      ],
      "metadata": {
        "id": "eM_l4UibqYUp"
      }
    },
    {
      "cell_type": "markdown",
      "source": [
        "# Paso 1 : first contact"
      ],
      "metadata": {
        "id": "LIZ0kHdxqf0Z"
      }
    },
    {
      "cell_type": "code",
      "source": [
        "import os\n",
        "bill =  int\n",
        "product1=int(input(\"enter the cost of the first product:\"))\n",
        "product2=int(input(\"enter the cost of the second product:\" ))\n",
        "product3=int(input(\"enter the cost of the third product:\"))\n",
        "product4=int(input(\"enter the cost of the fourth product:\" ))\n",
        "product5=int(input(\"enter the cost of the fifth product:\"))\n",
        "bill =  product1 + product2 + product3  + product4 + product5\n",
        "print(\"net worth is: \", bill, \"\\n iva :\", bill * 0.19)"
      ],
      "metadata": {
        "id": "QyERPAdDqNs4"
      },
      "execution_count": null,
      "outputs": []
    },
    {
      "cell_type": "markdown",
      "source": [
        "first"
      ],
      "metadata": {
        "id": "V7BxN9N25I1e"
      }
    },
    {
      "cell_type": "markdown",
      "source": [
        "ejercio java"
      ],
      "metadata": {
        "id": "SctiwZfo6A5f"
      }
    },
    {
      "cell_type": "code",
      "source": [
        "var1=int(input(\"enter a number :\"))\n",
        "var2=int(input(\"enter a number :\"))\n",
        "var3=int(input(\"enter a number :\"))\n",
        "if var1 > var2 and var1 > var3:\n",
        "  print(\"number 1 is bigger\", var1)\n",
        "elif var2 < var1 and var2 < var3 : \n",
        "  print(\"number 2 is minimal\", var2)"
      ],
      "metadata": {
        "id": "wuiCWkRM7xbQ"
      },
      "execution_count": null,
      "outputs": []
    },
    {
      "cell_type": "markdown",
      "source": [
        "mood paython\n"
      ],
      "metadata": {
        "id": "4oshwQ8aEu6K"
      }
    },
    {
      "cell_type": "code",
      "source": [
        "prod1, prod2, prod3 = input(\"ingresar los numeros separados con comas\").split(\",\") \n",
        "print(\"El mayor es :\",max(int(prod1),int(prod2),int(prod3)))\n",
        "print(\"El mayor es :\",min(int(prod1),int(prod2),int(prod3)))\n",
        "print(\"promedio es :\",(int(prod1)+int(prod2)+int(prod3))/3)"
      ],
      "metadata": {
        "id": "P3gNLkar6DQP"
      },
      "execution_count": null,
      "outputs": []
    }
  ]
}